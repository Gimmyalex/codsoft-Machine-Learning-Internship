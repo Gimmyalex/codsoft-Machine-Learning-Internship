{
  "metadata": {
    "kernelspec": {
      "name": "python3",
      "display_name": "Python 3",
      "language": "python"
    },
    "language_info": {
      "name": "python",
      "version": "3.10.14",
      "mimetype": "text/x-python",
      "codemirror_mode": {
        "name": "ipython",
        "version": 3
      },
      "pygments_lexer": "ipython3",
      "nbconvert_exporter": "python",
      "file_extension": ".py"
    },
    "colab": {
      "provenance": [],
      "name": "Credit Card Transactions Fraud Detection "
    },
    "kaggle": {
      "accelerator": "none",
      "dataSources": [
        {
          "sourceId": 1399887,
          "sourceType": "datasetVersion",
          "datasetId": 817870
        }
      ],
      "dockerImageVersionId": 30761,
      "isInternetEnabled": true,
      "language": "python",
      "sourceType": "notebook",
      "isGpuEnabled": false
    }
  },
  "nbformat_minor": 0,
  "nbformat": 4,
  "cells": [
    {
      "source": [
        "# IMPORTANT: RUN THIS CELL IN ORDER TO IMPORT YOUR KAGGLE DATA SOURCES,\n",
        "# THEN FEEL FREE TO DELETE THIS CELL.\n",
        "# NOTE: THIS NOTEBOOK ENVIRONMENT DIFFERS FROM KAGGLE'S PYTHON\n",
        "# ENVIRONMENT SO THERE MAY BE MISSING LIBRARIES USED BY YOUR\n",
        "# NOTEBOOK.\n",
        "import kagglehub\n",
        "kartik2112_fraud_detection_path = kagglehub.dataset_download('kartik2112/fraud-detection')\n",
        "\n",
        "print('Data source import complete.')\n"
      ],
      "metadata": {
        "id": "PQR5aptbzrh0"
      },
      "cell_type": "code",
      "outputs": [],
      "execution_count": null
    },
    {
      "cell_type": "markdown",
      "source": [
        "# **Import Libraries**"
      ],
      "metadata": {
        "id": "L0lKZBfIeRY3"
      }
    },
    {
      "cell_type": "code",
      "source": [
        "import pandas as pd\n",
        "import numpy as np\n",
        "import matplotlib.pyplot as plt\n",
        "import seaborn as sns\n",
        "from sklearn.model_selection import train_test_split\n",
        "from sklearn.preprocessing import LabelEncoder,StandardScaler\n",
        "from sklearn.ensemble import RandomForestClassifier\n",
        "from sklearn.metrics import accuracy_score,confusion_matrix,f1_score,recall_score,precision_score"
      ],
      "metadata": {
        "id": "b71StV-h2oNg",
        "execution": {
          "iopub.status.busy": "2025-01-29T16:43:19.795702Z",
          "iopub.execute_input": "2025-01-29T16:43:19.796188Z",
          "iopub.status.idle": "2025-01-29T16:43:22.884254Z",
          "shell.execute_reply.started": "2025-01-29T16:43:19.796128Z",
          "shell.execute_reply": "2025-01-29T16:43:22.882842Z"
        },
        "trusted": true
      },
      "outputs": [],
      "execution_count": null
    },
    {
      "cell_type": "markdown",
      "source": [
        "# **Load and Prepare Data**"
      ],
      "metadata": {
        "id": "DEDKM0a4eoIp"
      }
    },
    {
      "cell_type": "code",
      "source": [
        "data_train=pd.read_csv(\"/kaggle/input/fraud-detection/fraudTrain.csv\")\n",
        "data_test=pd.read_csv(\"/kaggle/input/fraud-detection/fraudTest.csv\")"
      ],
      "metadata": {
        "id": "bwqs59Fp72RD",
        "execution": {
          "iopub.status.busy": "2025-01-29T16:43:41.370423Z",
          "iopub.execute_input": "2025-01-29T16:43:41.370854Z",
          "iopub.status.idle": "2025-01-29T16:44:00.521642Z",
          "shell.execute_reply.started": "2025-01-29T16:43:41.370808Z",
          "shell.execute_reply": "2025-01-29T16:44:00.520407Z"
        },
        "trusted": true
      },
      "outputs": [],
      "execution_count": null
    },
    {
      "cell_type": "code",
      "source": [
        "full_data=pd.concat([data_train, data_test])"
      ],
      "metadata": {
        "id": "0oidRrIB2oCV",
        "execution": {
          "iopub.status.busy": "2025-01-29T16:44:11.251602Z",
          "iopub.execute_input": "2025-01-29T16:44:11.252032Z",
          "iopub.status.idle": "2025-01-29T16:44:11.486183Z",
          "shell.execute_reply.started": "2025-01-29T16:44:11.251987Z",
          "shell.execute_reply": "2025-01-29T16:44:11.484983Z"
        },
        "trusted": true
      },
      "outputs": [],
      "execution_count": null
    },
    {
      "cell_type": "code",
      "source": [
        "full_data.head()"
      ],
      "metadata": {
        "id": "m53nw6J52n-w",
        "outputId": "4dee9ff0-a14b-448a-b80a-0d0b93371307",
        "execution": {
          "iopub.status.busy": "2025-01-29T16:44:13.163467Z",
          "iopub.execute_input": "2025-01-29T16:44:13.164005Z",
          "iopub.status.idle": "2025-01-29T16:44:13.218202Z",
          "shell.execute_reply.started": "2025-01-29T16:44:13.163954Z",
          "shell.execute_reply": "2025-01-29T16:44:13.216913Z"
        },
        "trusted": true
      },
      "outputs": [
        {
          "execution_count": 4,
          "output_type": "execute_result",
          "data": {
            "text/plain": "   Unnamed: 0 trans_date_trans_time            cc_num  \\\n0           0   2019-01-01 00:00:18  2703186189652095   \n1           1   2019-01-01 00:00:44      630423337322   \n2           2   2019-01-01 00:00:51    38859492057661   \n3           3   2019-01-01 00:01:16  3534093764340240   \n4           4   2019-01-01 00:03:06   375534208663984   \n\n                             merchant       category     amt      first  \\\n0          fraud_Rippin, Kub and Mann       misc_net    4.97   Jennifer   \n1     fraud_Heller, Gutmann and Zieme    grocery_pos  107.23  Stephanie   \n2                fraud_Lind-Buckridge  entertainment  220.11     Edward   \n3  fraud_Kutch, Hermiston and Farrell  gas_transport   45.00     Jeremy   \n4                 fraud_Keeling-Crist       misc_pos   41.96      Tyler   \n\n      last gender                        street  ...      lat      long  \\\n0    Banks      F                561 Perry Cove  ...  36.0788  -81.1781   \n1     Gill      F  43039 Riley Greens Suite 393  ...  48.8878 -118.2105   \n2  Sanchez      M      594 White Dale Suite 530  ...  42.1808 -112.2620   \n3    White      M   9443 Cynthia Court Apt. 038  ...  46.2306 -112.1138   \n4   Garcia      M              408 Bradley Rest  ...  38.4207  -79.4629   \n\n   city_pop                                job         dob  \\\n0      3495          Psychologist, counselling  1988-03-09   \n1       149  Special educational needs teacher  1978-06-21   \n2      4154        Nature conservation officer  1962-01-19   \n3      1939                    Patent attorney  1967-01-12   \n4        99     Dance movement psychotherapist  1986-03-28   \n\n                          trans_num   unix_time  merch_lat  merch_long  \\\n0  0b242abb623afc578575680df30655b9  1325376018  36.011293  -82.048315   \n1  1f76529f8574734946361c461b024d99  1325376044  49.159047 -118.186462   \n2  a1a22d70485983eac12b5b88dad1cf95  1325376051  43.150704 -112.154481   \n3  6b849c168bdad6f867558c3793159a81  1325376076  47.034331 -112.561071   \n4  a41d7549acf90789359a9aa5346dcb46  1325376186  38.674999  -78.632459   \n\n   is_fraud  \n0         0  \n1         0  \n2         0  \n3         0  \n4         0  \n\n[5 rows x 23 columns]",
            "text/html": "<div>\n<style scoped>\n    .dataframe tbody tr th:only-of-type {\n        vertical-align: middle;\n    }\n\n    .dataframe tbody tr th {\n        vertical-align: top;\n    }\n\n    .dataframe thead th {\n        text-align: right;\n    }\n</style>\n<table border=\"1\" class=\"dataframe\">\n  <thead>\n    <tr style=\"text-align: right;\">\n      <th></th>\n      <th>Unnamed: 0</th>\n      <th>trans_date_trans_time</th>\n      <th>cc_num</th>\n      <th>merchant</th>\n      <th>category</th>\n      <th>amt</th>\n      <th>first</th>\n      <th>last</th>\n      <th>gender</th>\n      <th>street</th>\n      <th>...</th>\n      <th>lat</th>\n      <th>long</th>\n      <th>city_pop</th>\n      <th>job</th>\n      <th>dob</th>\n      <th>trans_num</th>\n      <th>unix_time</th>\n      <th>merch_lat</th>\n      <th>merch_long</th>\n      <th>is_fraud</th>\n    </tr>\n  </thead>\n  <tbody>\n    <tr>\n      <th>0</th>\n      <td>0</td>\n      <td>2019-01-01 00:00:18</td>\n      <td>2703186189652095</td>\n      <td>fraud_Rippin, Kub and Mann</td>\n      <td>misc_net</td>\n      <td>4.97</td>\n      <td>Jennifer</td>\n      <td>Banks</td>\n      <td>F</td>\n      <td>561 Perry Cove</td>\n      <td>...</td>\n      <td>36.0788</td>\n      <td>-81.1781</td>\n      <td>3495</td>\n      <td>Psychologist, counselling</td>\n      <td>1988-03-09</td>\n      <td>0b242abb623afc578575680df30655b9</td>\n      <td>1325376018</td>\n      <td>36.011293</td>\n      <td>-82.048315</td>\n      <td>0</td>\n    </tr>\n    <tr>\n      <th>1</th>\n      <td>1</td>\n      <td>2019-01-01 00:00:44</td>\n      <td>630423337322</td>\n      <td>fraud_Heller, Gutmann and Zieme</td>\n      <td>grocery_pos</td>\n      <td>107.23</td>\n      <td>Stephanie</td>\n      <td>Gill</td>\n      <td>F</td>\n      <td>43039 Riley Greens Suite 393</td>\n      <td>...</td>\n      <td>48.8878</td>\n      <td>-118.2105</td>\n      <td>149</td>\n      <td>Special educational needs teacher</td>\n      <td>1978-06-21</td>\n      <td>1f76529f8574734946361c461b024d99</td>\n      <td>1325376044</td>\n      <td>49.159047</td>\n      <td>-118.186462</td>\n      <td>0</td>\n    </tr>\n    <tr>\n      <th>2</th>\n      <td>2</td>\n      <td>2019-01-01 00:00:51</td>\n      <td>38859492057661</td>\n      <td>fraud_Lind-Buckridge</td>\n      <td>entertainment</td>\n      <td>220.11</td>\n      <td>Edward</td>\n      <td>Sanchez</td>\n      <td>M</td>\n      <td>594 White Dale Suite 530</td>\n      <td>...</td>\n      <td>42.1808</td>\n      <td>-112.2620</td>\n      <td>4154</td>\n      <td>Nature conservation officer</td>\n      <td>1962-01-19</td>\n      <td>a1a22d70485983eac12b5b88dad1cf95</td>\n      <td>1325376051</td>\n      <td>43.150704</td>\n      <td>-112.154481</td>\n      <td>0</td>\n    </tr>\n    <tr>\n      <th>3</th>\n      <td>3</td>\n      <td>2019-01-01 00:01:16</td>\n      <td>3534093764340240</td>\n      <td>fraud_Kutch, Hermiston and Farrell</td>\n      <td>gas_transport</td>\n      <td>45.00</td>\n      <td>Jeremy</td>\n      <td>White</td>\n      <td>M</td>\n      <td>9443 Cynthia Court Apt. 038</td>\n      <td>...</td>\n      <td>46.2306</td>\n      <td>-112.1138</td>\n      <td>1939</td>\n      <td>Patent attorney</td>\n      <td>1967-01-12</td>\n      <td>6b849c168bdad6f867558c3793159a81</td>\n      <td>1325376076</td>\n      <td>47.034331</td>\n      <td>-112.561071</td>\n      <td>0</td>\n    </tr>\n    <tr>\n      <th>4</th>\n      <td>4</td>\n      <td>2019-01-01 00:03:06</td>\n      <td>375534208663984</td>\n      <td>fraud_Keeling-Crist</td>\n      <td>misc_pos</td>\n      <td>41.96</td>\n      <td>Tyler</td>\n      <td>Garcia</td>\n      <td>M</td>\n      <td>408 Bradley Rest</td>\n      <td>...</td>\n      <td>38.4207</td>\n      <td>-79.4629</td>\n      <td>99</td>\n      <td>Dance movement psychotherapist</td>\n      <td>1986-03-28</td>\n      <td>a41d7549acf90789359a9aa5346dcb46</td>\n      <td>1325376186</td>\n      <td>38.674999</td>\n      <td>-78.632459</td>\n      <td>0</td>\n    </tr>\n  </tbody>\n</table>\n<p>5 rows × 23 columns</p>\n</div>"
          },
          "metadata": {}
        }
      ],
      "execution_count": null
    },
    {
      "cell_type": "code",
      "source": [
        "full_data.info()"
      ],
      "metadata": {
        "id": "RFe50iq-6jYL",
        "outputId": "5e2513f4-faa5-4972-dd5e-d2ff569eb44a",
        "execution": {
          "iopub.status.busy": "2025-01-29T16:44:23.890738Z",
          "iopub.execute_input": "2025-01-29T16:44:23.891194Z",
          "iopub.status.idle": "2025-01-29T16:44:23.917333Z",
          "shell.execute_reply.started": "2025-01-29T16:44:23.891154Z",
          "shell.execute_reply": "2025-01-29T16:44:23.915937Z"
        },
        "trusted": true
      },
      "outputs": [
        {
          "name": "stdout",
          "text": "<class 'pandas.core.frame.DataFrame'>\nIndex: 1852394 entries, 0 to 555718\nData columns (total 23 columns):\n #   Column                 Dtype  \n---  ------                 -----  \n 0   Unnamed: 0             int64  \n 1   trans_date_trans_time  object \n 2   cc_num                 int64  \n 3   merchant               object \n 4   category               object \n 5   amt                    float64\n 6   first                  object \n 7   last                   object \n 8   gender                 object \n 9   street                 object \n 10  city                   object \n 11  state                  object \n 12  zip                    int64  \n 13  lat                    float64\n 14  long                   float64\n 15  city_pop               int64  \n 16  job                    object \n 17  dob                    object \n 18  trans_num              object \n 19  unix_time              int64  \n 20  merch_lat              float64\n 21  merch_long             float64\n 22  is_fraud               int64  \ndtypes: float64(5), int64(6), object(12)\nmemory usage: 339.2+ MB\n",
          "output_type": "stream"
        }
      ],
      "execution_count": null
    },
    {
      "cell_type": "code",
      "source": [
        "full_data=full_data.dropna()"
      ],
      "metadata": {
        "id": "BhkDDuhou4o5",
        "execution": {
          "iopub.status.busy": "2025-01-29T16:44:31.140508Z",
          "iopub.execute_input": "2025-01-29T16:44:31.140912Z",
          "iopub.status.idle": "2025-01-29T16:44:33.659348Z",
          "shell.execute_reply.started": "2025-01-29T16:44:31.140877Z",
          "shell.execute_reply": "2025-01-29T16:44:33.658127Z"
        },
        "trusted": true
      },
      "outputs": [],
      "execution_count": null
    },
    {
      "cell_type": "code",
      "source": [
        "full_data.isnull().sum()"
      ],
      "metadata": {
        "id": "os-P2QGhuagW",
        "outputId": "e5b08640-9606-498f-f8f0-44603937befc",
        "execution": {
          "iopub.status.busy": "2025-01-29T16:44:36.611131Z",
          "iopub.execute_input": "2025-01-29T16:44:36.611532Z",
          "iopub.status.idle": "2025-01-29T16:44:37.666801Z",
          "shell.execute_reply.started": "2025-01-29T16:44:36.611498Z",
          "shell.execute_reply": "2025-01-29T16:44:37.665596Z"
        },
        "trusted": true
      },
      "outputs": [
        {
          "execution_count": 7,
          "output_type": "execute_result",
          "data": {
            "text/plain": "Unnamed: 0               0\ntrans_date_trans_time    0\ncc_num                   0\nmerchant                 0\ncategory                 0\namt                      0\nfirst                    0\nlast                     0\ngender                   0\nstreet                   0\ncity                     0\nstate                    0\nzip                      0\nlat                      0\nlong                     0\ncity_pop                 0\njob                      0\ndob                      0\ntrans_num                0\nunix_time                0\nmerch_lat                0\nmerch_long               0\nis_fraud                 0\ndtype: int64"
          },
          "metadata": {}
        }
      ],
      "execution_count": null
    },
    {
      "cell_type": "code",
      "source": [
        "fraud_counts=full_data['is_fraud'].value_counts()\n",
        "sns.barplot(x=fraud_counts.index, y=fraud_counts.values)\n",
        "plt.title('Distribution of Fraud')\n",
        "plt.xlabel('Fraud')\n",
        "plt.ylabel('Count')\n",
        "plt.show()"
      ],
      "metadata": {
        "id": "sDCyrmi78Mu0",
        "outputId": "34042da3-90aa-4873-8f84-35758ed9f051",
        "execution": {
          "iopub.status.busy": "2025-01-29T16:44:47.23093Z",
          "iopub.execute_input": "2025-01-29T16:44:47.23138Z",
          "iopub.status.idle": "2025-01-29T16:44:47.517188Z",
          "shell.execute_reply.started": "2025-01-29T16:44:47.23134Z",
          "shell.execute_reply": "2025-01-29T16:44:47.515905Z"
        },
        "trusted": true
      },
      "outputs": [
        {
          "output_type": "display_data",
          "data": {
            "text/plain": "<Figure size 640x480 with 1 Axes>",
            "image/png": "[encoded data removed]"
          },
          "metadata": {}
        }
      ],
      "execution_count": null
    },
    {
      "cell_type": "code",
      "source": [
        "full_data.duplicated().sum()"
      ],
      "metadata": {
        "id": "EFNEtDXHugcm",
        "outputId": "84873170-2e19-4029-ab4b-331594992bf8",
        "execution": {
          "iopub.status.busy": "2025-01-29T16:44:55.511308Z",
          "iopub.execute_input": "2025-01-29T16:44:55.511718Z",
          "iopub.status.idle": "2025-01-29T16:45:00.868887Z",
          "shell.execute_reply.started": "2025-01-29T16:44:55.511682Z",
          "shell.execute_reply": "2025-01-29T16:45:00.867407Z"
        },
        "trusted": true
      },
      "outputs": [
        {
          "execution_count": 9,
          "output_type": "execute_result",
          "data": {
            "text/plain": "0"
          },
          "metadata": {}
        }
      ],
      "execution_count": null
    },
    {
      "cell_type": "code",
      "source": [
        "full_data.info()"
      ],
      "metadata": {
        "id": "C7lgw4jAyRaY",
        "outputId": "0e82fdb9-a96f-4045-b338-6320f03f39cf",
        "execution": {
          "iopub.status.busy": "2025-01-29T16:45:02.290453Z",
          "iopub.execute_input": "2025-01-29T16:45:02.290901Z",
          "iopub.status.idle": "2025-01-29T16:45:02.302819Z",
          "shell.execute_reply.started": "2025-01-29T16:45:02.290863Z",
          "shell.execute_reply": "2025-01-29T16:45:02.301534Z"
        },
        "trusted": true
      },
      "outputs": [
        {
          "name": "stdout",
          "text": "<class 'pandas.core.frame.DataFrame'>\nIndex: 1852394 entries, 0 to 555718\nData columns (total 23 columns):\n #   Column                 Dtype  \n---  ------                 -----  \n 0   Unnamed: 0             int64  \n 1   trans_date_trans_time  object \n 2   cc_num                 int64  \n 3   merchant               object \n 4   category               object \n 5   amt                    float64\n 6   first                  object \n 7   last                   object \n 8   gender                 object \n 9   street                 object \n 10  city                   object \n 11  state                  object \n 12  zip                    int64  \n 13  lat                    float64\n 14  long                   float64\n 15  city_pop               int64  \n 16  job                    object \n 17  dob                    object \n 18  trans_num              object \n 19  unix_time              int64  \n 20  merch_lat              float64\n 21  merch_long             float64\n 22  is_fraud               int64  \ndtypes: float64(5), int64(6), object(12)\nmemory usage: 339.2+ MB\n",
          "output_type": "stream"
        }
      ],
      "execution_count": null
    },
    {
      "cell_type": "markdown",
      "source": [
        "# **Data Processing**"
      ],
      "metadata": {
        "id": "E0XL8lQKe_KR"
      }
    },
    {
      "cell_type": "code",
      "source": [
        "fraud=full_data[full_data[\"is_fraud\"]==1]\n",
        "not_fraud=full_data[full_data[\"is_fraud\"]==0]\n",
        "print(fraud.shape[0])\n",
        "print(not_fraud.shape[0])"
      ],
      "metadata": {
        "id": "7l2THDDNOAVq",
        "outputId": "25865ce2-fc47-4c43-b82e-36c52b425562",
        "execution": {
          "iopub.status.busy": "2025-01-29T16:45:12.843731Z",
          "iopub.execute_input": "2025-01-29T16:45:12.844196Z",
          "iopub.status.idle": "2025-01-29T16:45:13.233655Z",
          "shell.execute_reply.started": "2025-01-29T16:45:12.844158Z",
          "shell.execute_reply": "2025-01-29T16:45:13.231961Z"
        },
        "trusted": true
      },
      "outputs": [
        {
          "name": "stdout",
          "text": "9651\n1842743\n",
          "output_type": "stream"
        }
      ],
      "execution_count": null
    },
    {
      "cell_type": "code",
      "source": [
        "not_fraud=not_fraud.sample(fraud.shape[0])\n",
        "data=pd.concat([fraud,not_fraud])"
      ],
      "metadata": {
        "id": "W2V2b2ViOBLG",
        "execution": {
          "iopub.status.busy": "2025-01-29T16:53:23.570925Z",
          "iopub.execute_input": "2025-01-29T16:53:23.571966Z",
          "iopub.status.idle": "2025-01-29T16:53:23.76701Z",
          "shell.execute_reply.started": "2025-01-29T16:53:23.571921Z",
          "shell.execute_reply": "2025-01-29T16:53:23.765831Z"
        },
        "trusted": true
      },
      "outputs": [],
      "execution_count": null
    },
    {
      "cell_type": "code",
      "source": [
        "fraud_counts=data['is_fraud'].value_counts()\n",
        "sns.barplot(x=fraud_counts.index,y=fraud_counts.values)\n",
        "plt.title('New Distribution of Fraud')\n",
        "plt.xlabel('Fraud')\n",
        "plt.ylabel('Count')\n",
        "plt.show()"
      ],
      "metadata": {
        "id": "ZdafIxP2OMBr",
        "outputId": "25b57ee9-dc40-4448-b478-43876b001303",
        "execution": {
          "iopub.status.busy": "2025-01-29T16:53:29.179217Z",
          "iopub.execute_input": "2025-01-29T16:53:29.179627Z",
          "iopub.status.idle": "2025-01-29T16:53:29.423269Z",
          "shell.execute_reply.started": "2025-01-29T16:53:29.179591Z",
          "shell.execute_reply": "2025-01-29T16:53:29.422123Z"
        },
        "trusted": true
      },
      "outputs": [
        {
          "output_type": "display_data",
          "data": {
            "text/plain": "<Figure size 640x480 with 1 Axes>",
            "image/png": "[encoded data removed]"
          },
          "metadata": {}
        }
      ],
      "execution_count": null
    },
    {
      "cell_type": "markdown",
      "source": [
        "# **Feature Engineering**"
      ],
      "metadata": {
        "id": "HUCeyXyUjhqR"
      }
    },
    {
      "cell_type": "code",
      "source": [
        "unused_cols=['Unnamed: 0','first','last','unix_time','street','gender','job','dob','city','state','trans_num','merchant']\n",
        "data.drop(columns=unused_cols,inplace=True)"
      ],
      "metadata": {
        "id": "Buvztho36jSa",
        "execution": {
          "iopub.status.busy": "2025-01-29T16:53:42.633256Z",
          "iopub.execute_input": "2025-01-29T16:53:42.633656Z",
          "iopub.status.idle": "2025-01-29T16:53:42.648193Z",
          "shell.execute_reply.started": "2025-01-29T16:53:42.633618Z",
          "shell.execute_reply": "2025-01-29T16:53:42.64677Z"
        },
        "trusted": true
      },
      "outputs": [],
      "execution_count": null
    },
    {
      "cell_type": "code",
      "source": [
        "data.info()"
      ],
      "metadata": {
        "id": "fEae59UfVBuT",
        "outputId": "f69fddad-cf8a-4b2e-e32f-c2e07d6ad912",
        "execution": {
          "iopub.status.busy": "2025-01-29T16:53:45.950241Z",
          "iopub.execute_input": "2025-01-29T16:53:45.950635Z",
          "iopub.status.idle": "2025-01-29T16:53:45.969477Z",
          "shell.execute_reply.started": "2025-01-29T16:53:45.950593Z",
          "shell.execute_reply": "2025-01-29T16:53:45.968053Z"
        },
        "trusted": true
      },
      "outputs": [
        {
          "name": "stdout",
          "text": "<class 'pandas.core.frame.DataFrame'>\nIndex: 19302 entries, 2449 to 930992\nData columns (total 11 columns):\n #   Column                 Non-Null Count  Dtype  \n---  ------                 --------------  -----  \n 0   trans_date_trans_time  19302 non-null  object \n 1   cc_num                 19302 non-null  int64  \n 2   category               19302 non-null  object \n 3   amt                    19302 non-null  float64\n 4   zip                    19302 non-null  int64  \n 5   lat                    19302 non-null  float64\n 6   long                   19302 non-null  float64\n 7   city_pop               19302 non-null  int64  \n 8   merch_lat              19302 non-null  float64\n 9   merch_long             19302 non-null  float64\n 10  is_fraud               19302 non-null  int64  \ndtypes: float64(5), int64(4), object(2)\nmemory usage: 1.8+ MB\n",
          "output_type": "stream"
        }
      ],
      "execution_count": null
    },
    {
      "cell_type": "code",
      "source": [
        "data['trans_date_trans_time']=pd.to_datetime(data['trans_date_trans_time'])\n",
        "data['trans_day']=data['trans_date_trans_time'].dt.day\n",
        "data['trans_month']=data['trans_date_trans_time'].dt.month\n",
        "data['trans_year']=data['trans_date_trans_time'].dt.year\n",
        "data['trans_hour']=data['trans_date_trans_time'].dt.hour\n",
        "data['trans_minute']=data['trans_date_trans_time'].dt.minute\n",
        "data.drop(columns=['trans_date_trans_time'],inplace=True)"
      ],
      "metadata": {
        "id": "33b6vcIOcRHy",
        "execution": {
          "iopub.status.busy": "2025-01-29T16:53:50.330543Z",
          "iopub.execute_input": "2025-01-29T16:53:50.33098Z",
          "iopub.status.idle": "2025-01-29T16:53:50.36539Z",
          "shell.execute_reply.started": "2025-01-29T16:53:50.330939Z",
          "shell.execute_reply": "2025-01-29T16:53:50.364189Z"
        },
        "trusted": true
      },
      "outputs": [],
      "execution_count": null
    },
    {
      "cell_type": "markdown",
      "source": [
        "# **Encode Variables**\n"
      ],
      "metadata": {
        "id": "bIrCfvO3fNDP"
      }
    },
    {
      "cell_type": "code",
      "source": [
        "encoder=LabelEncoder()\n",
        "data['category']=encoder.fit_transform(data['category'])\n",
        "data['cc_num']=encoder.fit_transform(data['cc_num'])"
      ],
      "metadata": {
        "id": "hBcIXYab6jQp",
        "execution": {
          "iopub.status.busy": "2025-01-29T16:53:54.97092Z",
          "iopub.execute_input": "2025-01-29T16:53:54.971337Z",
          "iopub.status.idle": "2025-01-29T16:53:54.984436Z",
          "shell.execute_reply.started": "2025-01-29T16:53:54.971302Z",
          "shell.execute_reply": "2025-01-29T16:53:54.982596Z"
        },
        "trusted": true
      },
      "outputs": [],
      "execution_count": null
    },
    {
      "cell_type": "code",
      "source": [
        "data.head()"
      ],
      "metadata": {
        "id": "FggJxv7AWy7n",
        "outputId": "8c937c03-da51-4dad-f503-25dfe2536356",
        "execution": {
          "iopub.status.busy": "2025-01-29T16:54:10.831495Z",
          "iopub.execute_input": "2025-01-29T16:54:10.831884Z",
          "iopub.status.idle": "2025-01-29T16:54:10.849195Z",
          "shell.execute_reply.started": "2025-01-29T16:54:10.831851Z",
          "shell.execute_reply": "2025-01-29T16:54:10.847582Z"
        },
        "trusted": true
      },
      "outputs": [
        {
          "execution_count": 19,
          "output_type": "execute_result",
          "data": {
            "text/plain": "      cc_num  category     amt    zip      lat     long  city_pop  merch_lat  \\\n2449     126         4  281.06  28611  35.9946 -81.7266       885  36.430124   \n2472     314         2   11.52  78208  29.4400 -98.4590   1595797  29.819364   \n2523     314         4  276.31  78208  29.4400 -98.4590   1595797  29.273085   \n2546     126         2    7.03  28611  35.9946 -81.7266       885  35.909292   \n2553     314         4  275.73  78208  29.4400 -98.4590   1595797  29.786426   \n\n      merch_long  is_fraud  trans_day  trans_month  trans_year  trans_hour  \\\n2449  -81.179483         1          2            1        2019           1   \n2472  -99.142791         1          2            1        2019           1   \n2523  -98.836360         1          2            1        2019           3   \n2546  -82.091010         1          2            1        2019           3   \n2553  -98.683410         1          2            1        2019           3   \n\n      trans_minute  \n2449             6  \n2472            47  \n2523             5  \n2546            38  \n2553            55  ",
            "text/html": "<div>\n<style scoped>\n    .dataframe tbody tr th:only-of-type {\n        vertical-align: middle;\n    }\n\n    .dataframe tbody tr th {\n        vertical-align: top;\n    }\n\n    .dataframe thead th {\n        text-align: right;\n    }\n</style>\n<table border=\"1\" class=\"dataframe\">\n  <thead>\n    <tr style=\"text-align: right;\">\n      <th></th>\n      <th>cc_num</th>\n      <th>category</th>\n      <th>amt</th>\n      <th>zip</th>\n      <th>lat</th>\n      <th>long</th>\n      <th>city_pop</th>\n      <th>merch_lat</th>\n      <th>merch_long</th>\n      <th>is_fraud</th>\n      <th>trans_day</th>\n      <th>trans_month</th>\n      <th>trans_year</th>\n      <th>trans_hour</th>\n      <th>trans_minute</th>\n    </tr>\n  </thead>\n  <tbody>\n    <tr>\n      <th>2449</th>\n      <td>126</td>\n      <td>4</td>\n      <td>281.06</td>\n      <td>28611</td>\n      <td>35.9946</td>\n      <td>-81.7266</td>\n      <td>885</td>\n      <td>36.430124</td>\n      <td>-81.179483</td>\n      <td>1</td>\n      <td>2</td>\n      <td>1</td>\n      <td>2019</td>\n      <td>1</td>\n      <td>6</td>\n    </tr>\n    <tr>\n      <th>2472</th>\n      <td>314</td>\n      <td>2</td>\n      <td>11.52</td>\n      <td>78208</td>\n      <td>29.4400</td>\n      <td>-98.4590</td>\n      <td>1595797</td>\n      <td>29.819364</td>\n      <td>-99.142791</td>\n      <td>1</td>\n      <td>2</td>\n      <td>1</td>\n      <td>2019</td>\n      <td>1</td>\n      <td>47</td>\n    </tr>\n    <tr>\n      <th>2523</th>\n      <td>314</td>\n      <td>4</td>\n      <td>276.31</td>\n      <td>78208</td>\n      <td>29.4400</td>\n      <td>-98.4590</td>\n      <td>1595797</td>\n      <td>29.273085</td>\n      <td>-98.836360</td>\n      <td>1</td>\n      <td>2</td>\n      <td>1</td>\n      <td>2019</td>\n      <td>3</td>\n      <td>5</td>\n    </tr>\n    <tr>\n      <th>2546</th>\n      <td>126</td>\n      <td>2</td>\n      <td>7.03</td>\n      <td>28611</td>\n      <td>35.9946</td>\n      <td>-81.7266</td>\n      <td>885</td>\n      <td>35.909292</td>\n      <td>-82.091010</td>\n      <td>1</td>\n      <td>2</td>\n      <td>1</td>\n      <td>2019</td>\n      <td>3</td>\n      <td>38</td>\n    </tr>\n    <tr>\n      <th>2553</th>\n      <td>314</td>\n      <td>4</td>\n      <td>275.73</td>\n      <td>78208</td>\n      <td>29.4400</td>\n      <td>-98.4590</td>\n      <td>1595797</td>\n      <td>29.786426</td>\n      <td>-98.683410</td>\n      <td>1</td>\n      <td>2</td>\n      <td>1</td>\n      <td>2019</td>\n      <td>3</td>\n      <td>55</td>\n    </tr>\n  </tbody>\n</table>\n</div>"
          },
          "metadata": {}
        }
      ],
      "execution_count": null
    },
    {
      "cell_type": "markdown",
      "source": [
        "# **Feature** **Scaling**"
      ],
      "metadata": {
        "id": "Ng257HNXfUeW"
      }
    },
    {
      "cell_type": "code",
      "source": [
        "scaler=StandardScaler()\n",
        "data['amt']=scaler.fit_transform(data[['amt']])\n",
        "data['zip']=scaler.fit_transform(data[['zip']])\n",
        "data['city_pop']=scaler.fit_transform(data[['city_pop']])\n",
        "data['cc_num']=encoder.fit_transform(data['cc_num'])"
      ],
      "metadata": {
        "id": "su05sVIP60bY",
        "execution": {
          "iopub.status.busy": "2025-01-29T16:54:13.743449Z",
          "iopub.execute_input": "2025-01-29T16:54:13.743816Z",
          "iopub.status.idle": "2025-01-29T16:54:13.766742Z",
          "shell.execute_reply.started": "2025-01-29T16:54:13.743783Z",
          "shell.execute_reply": "2025-01-29T16:54:13.765609Z"
        },
        "trusted": true
      },
      "outputs": [],
      "execution_count": null
    },
    {
      "cell_type": "code",
      "source": [
        "X=data.drop('is_fraud',axis=1)\n",
        "y=data['is_fraud']"
      ],
      "metadata": {
        "id": "yDxSCLAvG7sR",
        "execution": {
          "iopub.status.busy": "2025-01-29T16:54:16.51086Z",
          "iopub.execute_input": "2025-01-29T16:54:16.51127Z",
          "iopub.status.idle": "2025-01-29T16:54:16.519894Z",
          "shell.execute_reply.started": "2025-01-29T16:54:16.511234Z",
          "shell.execute_reply": "2025-01-29T16:54:16.518453Z"
        },
        "trusted": true
      },
      "outputs": [],
      "execution_count": null
    },
    {
      "cell_type": "markdown",
      "source": [
        "# **Split the** **Data**\n"
      ],
      "metadata": {
        "id": "usq5O6sEgDgU"
      }
    },
    {
      "cell_type": "code",
      "source": [
        "X_train, X_test, y_train, y_test = train_test_split(X, y, test_size=0.2,random_state=0)"
      ],
      "metadata": {
        "id": "QHbL4Bo97E9T",
        "execution": {
          "iopub.status.busy": "2025-01-29T16:54:24.371896Z",
          "iopub.execute_input": "2025-01-29T16:54:24.372331Z",
          "iopub.status.idle": "2025-01-29T16:54:24.387221Z",
          "shell.execute_reply.started": "2025-01-29T16:54:24.372294Z",
          "shell.execute_reply": "2025-01-29T16:54:24.386018Z"
        },
        "trusted": true
      },
      "outputs": [],
      "execution_count": null
    },
    {
      "cell_type": "markdown",
      "source": [
        "# **Build and Train the Model**"
      ],
      "metadata": {
        "id": "FKMuAdzrgNVL"
      }
    },
    {
      "cell_type": "code",
      "source": [
        "RFC=RandomForestClassifier(random_state=0)\n",
        "RFC.fit(X_train,y_train)\n",
        "y_pred=RFC.predict(X_test)"
      ],
      "metadata": {
        "id": "82pkBvs6ygDS",
        "execution": {
          "iopub.status.busy": "2025-01-29T16:54:27.330464Z",
          "iopub.execute_input": "2025-01-29T16:54:27.330845Z",
          "iopub.status.idle": "2025-01-29T16:54:30.47512Z",
          "shell.execute_reply.started": "2025-01-29T16:54:27.330812Z",
          "shell.execute_reply": "2025-01-29T16:54:30.473481Z"
        },
        "trusted": true
      },
      "outputs": [],
      "execution_count": null
    },
    {
      "cell_type": "markdown",
      "source": [
        "# **Evaluate** **the** **Model**\n"
      ],
      "metadata": {
        "id": "-YfpZ5I6gVnh"
      }
    },
    {
      "cell_type": "code",
      "source": [
        "print('Accuracy:',accuracy_score(y_test, y_pred))\n",
        "print('Precision:',precision_score(y_test, y_pred))\n",
        "print('Recall:', recall_score(y_test, y_pred))\n",
        "print('F1 score:',f1_score(y_test, y_pred))\n",
        "print('Confusion matrix:',confusion_matrix(y_test, y_pred))"
      ],
      "metadata": {
        "id": "tOm_aeAG2k_5",
        "outputId": "68826d02-ac77-409d-cb72-e4be94b3fe2b",
        "execution": {
          "iopub.status.busy": "2025-01-29T16:54:36.311254Z",
          "iopub.execute_input": "2025-01-29T16:54:36.312561Z",
          "iopub.status.idle": "2025-01-29T16:54:36.340646Z",
          "shell.execute_reply.started": "2025-01-29T16:54:36.312513Z",
          "shell.execute_reply": "2025-01-29T16:54:36.339198Z"
        },
        "trusted": true
      },
      "outputs": [
        {
          "name": "stdout",
          "text": "Accuracy: 0.96995596995597\nPrecision: 0.9755968169761273\nRecall: 0.9633315872184389\nF1 score: 0.9694254085397996\nConfusion matrix: [[1906   46]\n [  70 1839]]\n",
          "output_type": "stream"
        }
      ],
      "execution_count": null
    },
    {
      "cell_type": "code",
      "source": [
        "plt.figure(figsize=(10,10))\n",
        "sns.heatmap(confusion_matrix(y_test, y_pred), annot=True, fmt='d')\n",
        "plt.xlabel('Predicted')\n",
        "plt.ylabel('Actual')\n",
        "plt.title('Confusion Matrix')"
      ],
      "metadata": {
        "id": "ctURD1mbteTh",
        "outputId": "bc27ecfd-63f8-479f-a16c-180d4a52af23",
        "execution": {
          "iopub.status.busy": "2025-01-29T16:54:44.591158Z",
          "iopub.execute_input": "2025-01-29T16:54:44.591576Z",
          "iopub.status.idle": "2025-01-29T16:54:44.868381Z",
          "shell.execute_reply.started": "2025-01-29T16:54:44.591539Z",
          "shell.execute_reply": "2025-01-29T16:54:44.867278Z"
        },
        "trusted": true
      },
      "outputs": [
        {
          "execution_count": 25,
          "output_type": "execute_result",
          "data": {
            "text/plain": "Text(0.5, 1.0, 'Confusion Matrix')"
          },
          "metadata": {}
        },
        {
          "output_type": "display_data",
          "data": {
            "text/plain": "<Figure size 1000x1000 with 2 Axes>",
            "image/png": "[encoded data removed]"
          },
          "metadata": {}
        }
      ],
      "execution_count": null
    },
    {
      "cell_type": "code",
      "source": [],
      "metadata": {
        "trusted": true,
        "id": "_9_LUTIfzrh8"
      },
      "outputs": [],
      "execution_count": null
    }
  ]
}